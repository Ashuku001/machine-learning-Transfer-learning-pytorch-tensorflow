{
 "cells": [
  {
   "cell_type": "code",
   "execution_count": 1,
   "metadata": {},
   "outputs": [],
   "source": [
    "import os\n",
    "def mkdir(dir):\n",
    "    if not os.path.exists(dir):\n",
    "        os.makedirs(dir)\n",
    "        print(f\"{dir} created.!\")\n",
    "    else:\n",
    "        print(f\"{dir} exists.\")"
   ]
  },
  {
   "cell_type": "code",
   "execution_count": 2,
   "metadata": {},
   "outputs": [
    {
     "name": "stdout",
     "output_type": "stream",
     "text": [
      "../data/raw-flowers-data exists.\n",
      "../data/processed/torch/train created.!\n",
      "../data/processed/torch/validation created.!\n",
      "../data/processed/torch/test created.!\n",
      "../trained-models exists.\n"
     ]
    }
   ],
   "source": [
    "data_dir = \"../data/raw-flowers-data\"\n",
    "train_root = \"../data/processed/torch/train\"\n",
    "val_root = \"../data/processed/torch/validation\"\n",
    "test_root = \"../data/processed/torch/test\"\n",
    "models_root = \"../trained-models\"\n",
    "\n",
    "for path in [data_dir, train_root, val_root, test_root, models_root]:\n",
    "    mkdir(path)"
   ]
  },
  {
   "cell_type": "code",
   "execution_count": 3,
   "metadata": {},
   "outputs": [
    {
     "name": "stdout",
     "output_type": "stream",
     "text": [
      "../data/processed/torch/train/tulip created.!\n",
      "../data/processed/torch/train/dandelion created.!\n",
      "../data/processed/torch/train/daisy created.!\n",
      "../data/processed/torch/train/rose created.!\n",
      "../data/processed/torch/train/sunflower created.!\n",
      "../data/processed/torch/validation/tulip created.!\n",
      "../data/processed/torch/validation/dandelion created.!\n",
      "../data/processed/torch/validation/daisy created.!\n",
      "../data/processed/torch/validation/rose created.!\n",
      "../data/processed/torch/validation/sunflower created.!\n",
      "../data/processed/torch/test/tulip created.!\n",
      "../data/processed/torch/test/dandelion created.!\n",
      "../data/processed/torch/test/daisy created.!\n",
      "../data/processed/torch/test/rose created.!\n",
      "../data/processed/torch/test/sunflower created.!\n"
     ]
    }
   ],
   "source": [
    "for path in [train_root, val_root, test_root]:\n",
    "    for subdir in [\"tulip\", \"dandelion\", \"daisy\", \"rose\", \"sunflower\",]:\n",
    "        mkdir(f\"{path}/{subdir}\")"
   ]
  }
 ],
 "metadata": {
  "kernelspec": {
   "display_name": "Python 3",
   "language": "python",
   "name": "python3"
  },
  "language_info": {
   "codemirror_mode": {
    "name": "ipython",
    "version": 3
   },
   "file_extension": ".py",
   "mimetype": "text/x-python",
   "name": "python",
   "nbconvert_exporter": "python",
   "pygments_lexer": "ipython3",
   "version": "3.12.2"
  }
 },
 "nbformat": 4,
 "nbformat_minor": 2
}
